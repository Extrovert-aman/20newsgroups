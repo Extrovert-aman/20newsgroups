{
 "cells": [
  {
   "cell_type": "markdown",
   "id": "198bba72-b9a6-4b31-b807-ce8051bd9353",
   "metadata": {},
   "source": [
    "### Introducing the 20newsgroups dataset\n",
    "The 20 Newsgroups data set is a collection of approximately 20,000 newsgroup documents, partitioned (nearly) evenly across 20 different newsgroups.The 20 newsgroups collection has become a popular data set for experiments in text applications of machine learning techniques, such as text classification and text clustering.\n"
   ]
  },
  {
   "cell_type": "markdown",
   "id": "67533baf-9cc7-4f4b-b7d4-904faf8e4641",
   "metadata": {},
   "source": [
    "### Creating cluster using knn classification algoritum to work on 20newsgroup data set"
   ]
  },
  {
   "cell_type": "code",
   "execution_count": 1,
   "id": "75afe2d8-4c5f-4adb-bf2f-a184805b00d0",
   "metadata": {},
   "outputs": [],
   "source": [
    "# import required modules\n",
    "import numpy as np\n",
    "from sklearn.feature_extraction.text import TfidfVectorizer\n",
    "import matplotlib.pyplot as plt\n",
    "\n",
    "%matplotlib inline"
   ]
  },
  {
   "cell_type": "code",
   "execution_count": 2,
   "id": "358f5c31-4b7c-466b-a566-21b7e9f28091",
   "metadata": {},
   "outputs": [],
   "source": [
    "# importing the required module\n",
    "from sklearn import metrics"
   ]
  },
  {
   "cell_type": "code",
   "execution_count": 3,
   "id": "a44eae50-baee-4909-9f47-c3e0a78b48b9",
   "metadata": {},
   "outputs": [],
   "source": [
    "# import 20 newsgroup dataset\n",
    "from sklearn.datasets import fetch_20newsgroups\n",
    "\n",
    "#categories = ['alt.atheism', 'comp.graphics', 'sci.space']\n",
    "categories = None\n",
    "data_train = fetch_20newsgroups(subset='train', remove=('headers', 'footers', 'quotes'), categories=categories)\n",
    "data_test = fetch_20newsgroups(subset='test', remove=('headers', 'footers', 'quotes'), categories=categories)"
   ]
  },
  {
   "cell_type": "code",
   "execution_count": 4,
   "id": "44be7ec8-a7c4-43d9-9ef6-ca0be80e7557",
   "metadata": {},
   "outputs": [
    {
     "data": {
      "text/plain": [
       "sklearn.utils._bunch.Bunch"
      ]
     },
     "execution_count": 4,
     "metadata": {},
     "output_type": "execute_result"
    }
   ],
   "source": [
    "type(data_train)\n",
    "type(data_test)"
   ]
  },
  {
   "cell_type": "code",
   "execution_count": 5,
   "id": "d48e38a7-fbcb-4cbe-bbe2-215a5c5184ea",
   "metadata": {},
   "outputs": [
    {
     "name": "stdout",
     "output_type": "stream",
     "text": [
      "Train data target labels: [7 4 4 ... 3 1 8]\n",
      "Test data target labels: [ 7  5  0 ...  9  6 15]\n"
     ]
    }
   ],
   "source": [
    "print( \"Train data target labels:\",data_train.target)\n",
    "print (\"Test data target labels:\",data_test.target)"
   ]
  },
  {
   "cell_type": "code",
   "execution_count": 6,
   "id": "15345458-2c61-4886-8fa1-876c3550a6cc",
   "metadata": {},
   "outputs": [
    {
     "name": "stdout",
     "output_type": "stream",
     "text": [
      "Train data target names: ['alt.atheism', 'comp.graphics', 'comp.os.ms-windows.misc', 'comp.sys.ibm.pc.hardware', 'comp.sys.mac.hardware', 'comp.windows.x', 'misc.forsale', 'rec.autos', 'rec.motorcycles', 'rec.sport.baseball', 'rec.sport.hockey', 'sci.crypt', 'sci.electronics', 'sci.med', 'sci.space', 'soc.religion.christian', 'talk.politics.guns', 'talk.politics.mideast', 'talk.politics.misc', 'talk.religion.misc']\n",
      "Test data target names: ['alt.atheism', 'comp.graphics', 'comp.os.ms-windows.misc', 'comp.sys.ibm.pc.hardware', 'comp.sys.mac.hardware', 'comp.windows.x', 'misc.forsale', 'rec.autos', 'rec.motorcycles', 'rec.sport.baseball', 'rec.sport.hockey', 'sci.crypt', 'sci.electronics', 'sci.med', 'sci.space', 'soc.religion.christian', 'talk.politics.guns', 'talk.politics.mideast', 'talk.politics.misc', 'talk.religion.misc']\n"
     ]
    }
   ],
   "source": [
    "print( \"Train data target names:\",data_train.target_names)\n",
    "print (\"Test data target names:\",data_test.target_names)"
   ]
  },
  {
   "cell_type": "code",
   "execution_count": 7,
   "id": "1bb34b70-d76d-4051-9ef7-759e0d9a26ea",
   "metadata": {},
   "outputs": [
    {
     "name": "stdout",
     "output_type": "stream",
     "text": [
      "Total train data: 11314\n",
      "Total test data: 7532\n"
     ]
    }
   ],
   "source": [
    "print( \"Total train data:\",len(data_train.data))\n",
    "print (\"Total test data:\",len(data_test.data))"
   ]
  },
  {
   "cell_type": "code",
   "execution_count": 8,
   "id": "1bcb32c9-0757-46ce-93fd-c562258b6f8a",
   "metadata": {},
   "outputs": [
    {
     "name": "stdout",
     "output_type": "stream",
     "text": [
      "<class 'list'>\n",
      "<class 'numpy.ndarray'>\n",
      "<class 'list'>\n",
      "<class 'numpy.ndarray'>\n"
     ]
    }
   ],
   "source": [
    "# Train data type\n",
    "print (type(data_train.data))\n",
    "print (type(data_train.target))\n",
    "\n",
    "# Test data type\n",
    "print (type(data_test.data))\n",
    "print (type(data_test.target))"
   ]
  },
  {
   "cell_type": "markdown",
   "id": "10421a8f-b779-4637-bead-a3abd3cae67f",
   "metadata": {},
   "source": [
    "### Requirements for working with data in scikit-learn\n",
    "1. Features and response are separate objects\n",
    "2. Features and response should be numeric\n",
    "3. Features and response should be NumPy arrays\n",
    "4. Features and response should have specific shapes"
   ]
  },
  {
   "cell_type": "code",
   "execution_count": 9,
   "id": "ee6fd6a2-393a-4010-8ff0-44516624c753",
   "metadata": {},
   "outputs": [],
   "source": [
    "# So, first converting text data into vectors of numerical values using tf-idf to form feature vector\n",
    "vectorizer = TfidfVectorizer()\n",
    "data_train_vectors = vectorizer.fit_transform(data_train.data)\n",
    "data_test_vectors = vectorizer.transform(data_test.data) "
   ]
  },
  {
   "cell_type": "code",
   "execution_count": 10,
   "id": "0f668ae6-6ab3-487d-9a47-43fcd8b69706",
   "metadata": {},
   "outputs": [
    {
     "name": "stdout",
     "output_type": "stream",
     "text": [
      "<class 'numpy.ndarray'>\n",
      "<class 'numpy.ndarray'>\n",
      "<class 'numpy.ndarray'>\n",
      "<class 'numpy.ndarray'>\n"
     ]
    }
   ],
   "source": [
    "# Train data type\n",
    "print( type(data_train_vectors.data))\n",
    "print( type(data_train.target))\n",
    "\n",
    "# Test data type\n",
    "print (type(data_train_vectors.data))\n",
    "print (type(data_train.target))"
   ]
  },
  {
   "cell_type": "code",
   "execution_count": 11,
   "id": "d294609b-a2f5-4ba7-8bc9-4468e1a6cf9c",
   "metadata": {},
   "outputs": [
    {
     "name": "stdout",
     "output_type": "stream",
     "text": [
      "(11314, 101631)\n"
     ]
    }
   ],
   "source": [
    "# check the shape of the features matrix\n",
    "print( data_train_vectors.shape)"
   ]
  },
  {
   "cell_type": "code",
   "execution_count": 12,
   "id": "e4224e0f-7e35-4b4d-90d5-b6539f208b8e",
   "metadata": {},
   "outputs": [
    {
     "name": "stdout",
     "output_type": "stream",
     "text": [
      "(11314,)\n"
     ]
    }
   ],
   "source": [
    "# check the shape of the response (single dimension matching the number of observations)\n",
    "print (data_train.target.shape)"
   ]
  },
  {
   "cell_type": "markdown",
   "id": "4c422032-8168-46cb-b388-698035dee8c4",
   "metadata": {},
   "source": [
    "### Train \\ Test data"
   ]
  },
  {
   "cell_type": "code",
   "execution_count": 13,
   "id": "f06c5cc9-5fd2-4fe1-9739-bd709694e945",
   "metadata": {},
   "outputs": [
    {
     "name": "stdout",
     "output_type": "stream",
     "text": [
      "Xtr:\n",
      "   (np.int32(0), np.int32(95844))\t0.2085823901983838\n",
      "  (np.int32(0), np.int32(97181))\t0.11904550931918896\n",
      "  (np.int32(0), np.int32(48754))\t0.08965702221604545\n",
      "  (np.int32(0), np.int32(18915))\t0.14367199533485261\n",
      "  (np.int32(0), np.int32(68847))\t0.058045106782124184\n",
      "  (np.int32(0), np.int32(88638))\t0.05191891673444119\n",
      "  (np.int32(0), np.int32(30074))\t0.06757106887546716\n",
      "  (np.int32(0), np.int32(37335))\t0.17894975360023155\n",
      "  (np.int32(0), np.int32(60560))\t0.056847192482369406\n",
      "  (np.int32(0), np.int32(68080))\t0.08295129558221048\n",
      "  (np.int32(0), np.int32(88767))\t0.16403190525380046\n",
      "  (np.int32(0), np.int32(25775))\t0.4046469916999255\n",
      "  (np.int32(0), np.int32(80623))\t0.11038705606471814\n",
      "  (np.int32(0), np.int32(88532))\t0.1642840263996455\n",
      "  (np.int32(0), np.int32(68781))\t0.06213700528329297\n",
      "  (np.int32(0), np.int32(31990))\t0.09144124612366937\n",
      "  (np.int32(0), np.int32(51326))\t0.07095431715969416\n",
      "  (np.int32(0), np.int32(34809))\t0.1289860835335575\n",
      "  (np.int32(0), np.int32(84538))\t0.14219503554259302\n",
      "  (np.int32(0), np.int32(57390))\t0.11745787957135642\n",
      "  (np.int32(0), np.int32(89360))\t0.03000170182339287\n",
      "  (np.int32(0), np.int32(21987))\t0.04246364738118965\n",
      "  (np.int32(0), np.int32(41715))\t0.10166193380744531\n",
      "  (np.int32(0), np.int32(55746))\t0.12007927287527424\n",
      "  (np.int32(0), np.int32(9843))\t0.1806731975402963\n",
      "  :\t:\n",
      "  (np.int32(11313), np.int32(40387))\t0.0867206848739519\n",
      "  (np.int32(11313), np.int32(81792))\t0.14804499058455659\n",
      "  (np.int32(11313), np.int32(81742))\t0.13241254413957532\n",
      "  (np.int32(11313), np.int32(96497))\t0.11937028308285064\n",
      "  (np.int32(11313), np.int32(89804))\t0.14264161682821117\n",
      "  (np.int32(11313), np.int32(23302))\t0.13624381462479354\n",
      "  (np.int32(11313), np.int32(82660))\t0.15534597522030463\n",
      "  (np.int32(11313), np.int32(85524))\t0.15974826407554324\n",
      "  (np.int32(11313), np.int32(70066))\t0.18924829303607932\n",
      "  (np.int32(11313), np.int32(21258))\t0.16759865888881284\n",
      "  (np.int32(11313), np.int32(62086))\t0.15378118115648023\n",
      "  (np.int32(11313), np.int32(71992))\t0.15455135124412295\n",
      "  (np.int32(11313), np.int32(87730))\t0.19862632786743623\n",
      "  (np.int32(11313), np.int32(84605))\t0.181277856971458\n",
      "  (np.int32(11313), np.int32(61975))\t0.16509371474903864\n",
      "  (np.int32(11313), np.int32(26205))\t0.19644855901305794\n",
      "  (np.int32(11313), np.int32(71786))\t0.16450478044917052\n",
      "  (np.int32(11313), np.int32(78365))\t0.17615214917505873\n",
      "  (np.int32(11313), np.int32(89465))\t0.16123554629999715\n",
      "  (np.int32(11313), np.int32(56719))\t0.15927151531952424\n",
      "  (np.int32(11313), np.int32(54033))\t0.18016529367918283\n",
      "  (np.int32(11313), np.int32(26208))\t0.21836027464328464\n",
      "  (np.int32(11313), np.int32(52230))\t0.24129370572401393\n",
      "  (np.int32(11313), np.int32(4486))\t0.24129370572401393\n",
      "  (np.int32(11313), np.int32(96707))\t0.24129370572401393\n",
      "ytr: [7 4 4 ... 3 1 8]\n"
     ]
    }
   ],
   "source": [
    "# store training feature matrix in \"Xtr\"\n",
    "Xtr = data_train_vectors\n",
    "print (\"Xtr:\\n\", Xtr)\n",
    "\n",
    "# store training response vector in \"ytr\"\n",
    "ytr = data_train.target\n",
    "print (\"ytr:\",ytr)"
   ]
  },
  {
   "cell_type": "code",
   "execution_count": 14,
   "id": "a619d0e8-c0b9-4da3-9c58-a85e1f655217",
   "metadata": {},
   "outputs": [
    {
     "name": "stdout",
     "output_type": "stream",
     "text": [
      "Xtt:\n",
      "   (np.int32(0), np.int32(12725))\t0.15335704976717565\n",
      "  (np.int32(0), np.int32(12796))\t0.3002667198928725\n",
      "  (np.int32(0), np.int32(17936))\t0.05759434615712483\n",
      "  (np.int32(0), np.int32(18091))\t0.0701782380881259\n",
      "  (np.int32(0), np.int32(18165))\t0.15201468957423658\n",
      "  (np.int32(0), np.int32(18521))\t0.03497274159244273\n",
      "  (np.int32(0), np.int32(19443))\t0.09797137915272827\n",
      "  (np.int32(0), np.int32(19756))\t0.052231473530768874\n",
      "  (np.int32(0), np.int32(22494))\t0.09613590599615258\n",
      "  (np.int32(0), np.int32(23622))\t0.22430112916077485\n",
      "  (np.int32(0), np.int32(24849))\t0.11147946738587439\n",
      "  (np.int32(0), np.int32(25590))\t0.05344626240468926\n",
      "  (np.int32(0), np.int32(29214))\t0.15626686058683387\n",
      "  (np.int32(0), np.int32(30074))\t0.07389720168367159\n",
      "  (np.int32(0), np.int32(31040))\t0.14924087861925034\n",
      "  (np.int32(0), np.int32(32737))\t0.15335704976717565\n",
      "  (np.int32(0), np.int32(33605))\t0.14647368373226027\n",
      "  (np.int32(0), np.int32(35974))\t0.12034350910056273\n",
      "  (np.int32(0), np.int32(39524))\t0.09675938759518452\n",
      "  (np.int32(0), np.int32(39835))\t0.13962006877088973\n",
      "  (np.int32(0), np.int32(41127))\t0.08069282283473016\n",
      "  (np.int32(0), np.int32(43217))\t0.06723492715254355\n",
      "  (np.int32(0), np.int32(45885))\t0.09004284320335229\n",
      "  (np.int32(0), np.int32(46088))\t0.21087202463306845\n",
      "  (np.int32(0), np.int32(47460))\t0.13848514709258697\n",
      "  :\t:\n",
      "  (np.int32(7531), np.int32(51136))\t0.16299891255024415\n",
      "  (np.int32(7531), np.int32(51223))\t0.11159470709485807\n",
      "  (np.int32(7531), np.int32(54632))\t0.07179487683313425\n",
      "  (np.int32(7531), np.int32(65641))\t0.08549291739546855\n",
      "  (np.int32(7531), np.int32(67670))\t0.0766448941023182\n",
      "  (np.int32(7531), np.int32(67861))\t0.12772964714547944\n",
      "  (np.int32(7531), np.int32(68102))\t0.06267234902683282\n",
      "  (np.int32(7531), np.int32(72161))\t0.13779988365287185\n",
      "  (np.int32(7531), np.int32(75375))\t0.2105235894069063\n",
      "  (np.int32(7531), np.int32(76947))\t0.24085257264343468\n",
      "  (np.int32(7531), np.int32(81118))\t0.1676055027744248\n",
      "  (np.int32(7531), np.int32(83666))\t0.0645323568505468\n",
      "  (np.int32(7531), np.int32(85140))\t0.11473151116069608\n",
      "  (np.int32(7531), np.int32(86525))\t0.11360913584569858\n",
      "  (np.int32(7531), np.int32(88519))\t0.1277035151376277\n",
      "  (np.int32(7531), np.int32(88532))\t0.03250313523329406\n",
      "  (np.int32(7531), np.int32(88638))\t0.061632074965603016\n",
      "  (np.int32(7531), np.int32(88767))\t0.2920792839263887\n",
      "  (np.int32(7531), np.int32(89360))\t0.03561451686930925\n",
      "  (np.int32(7531), np.int32(92842))\t0.0930013322633612\n",
      "  (np.int32(7531), np.int32(94254))\t0.21908592183143968\n",
      "  (np.int32(7531), np.int32(94344))\t0.19232403908927306\n",
      "  (np.int32(7531), np.int32(96061))\t0.07520107799468942\n",
      "  (np.int32(7531), np.int32(97250))\t0.09376786525733852\n",
      "  (np.int32(7531), np.int32(100221))\t0.07155408481162422\n",
      "ytt: [ 7  5  0 ...  9  6 15]\n"
     ]
    }
   ],
   "source": [
    "# store testing feature matrix in \"Xtt\"\n",
    "Xtt = data_test_vectors\n",
    "print( \"Xtt:\\n\", Xtt)\n",
    "\n",
    "# store testing response vector in \"ytt\"\n",
    "ytt = data_test.target\n",
    "print (\"ytt:\",ytt)"
   ]
  },
  {
   "cell_type": "markdown",
   "id": "a87a39a4-358a-4cac-9ce7-fa9d3182cf7d",
   "metadata": {},
   "source": [
    "### K-Nearest Neighbors (KNN) classification \n",
    "## Hyperparameters: n_neighbours=5, weights=default"
   ]
  },
  {
   "cell_type": "code",
   "execution_count": 15,
   "id": "cb06504e-ada5-425d-83b9-f665b75562aa",
   "metadata": {},
   "outputs": [],
   "source": [
    "# import the required module from scikit learn\n",
    "from sklearn.neighbors import KNeighborsClassifier"
   ]
  },
  {
   "cell_type": "code",
   "execution_count": 17,
   "id": "931e6891-49dd-4e38-ae3e-3a36c3cc6be8",
   "metadata": {},
   "outputs": [
    {
     "name": "stdout",
     "output_type": "stream",
     "text": [
      "Predicted Class Labels: [1 1 7 ... 2 2 1]\n",
      "Classification Accuracy: 0.07939458311205523\n",
      "Classification Error of KNN: 0.9206054168879447\n"
     ]
    }
   ],
   "source": [
    "# Implementing classification model- using KNeighborsClassifier\n",
    "\n",
    "# Instantiate the estimator\n",
    "clf_knn =  KNeighborsClassifier(n_neighbors=5, )\n",
    "\n",
    "# Fit the model with data (aka \"model training\")\n",
    "clf_knn.fit(Xtr, ytr)\n",
    "\n",
    "# Predict the response for a new observation\n",
    "y_pred = clf_knn.predict(Xtt)\n",
    "print (\"Predicted Class Labels:\",y_pred)\n",
    "\n",
    "# Predict the response score for a new observation\n",
    "y_pred_score_knn = clf_knn.predict_proba(Xtt)\n",
    "#print (\"Predicted Score:\\n\",y_pred_score_knn)\n",
    "print (\"Classification Accuracy:\",metrics.accuracy_score(ytt, y_pred))\n",
    "print (\"Classification Error of KNN:\", 1 - metrics.accuracy_score(ytt, y_pred))"
   ]
  },
  {
   "cell_type": "markdown",
   "id": "6aaed37a-d87b-4967-91eb-11fd03d7f553",
   "metadata": {},
   "source": []
  },
  {
   "cell_type": "markdown",
   "id": "ec13d18e-58cc-42e5-8c2f-888701704cac",
   "metadata": {},
   "source": [
    "### Confusion matrix\n",
    "Table that describes the performance of a classification model"
   ]
  },
  {
   "cell_type": "code",
   "execution_count": 19,
   "id": "0b746ef2-94f5-4cfa-9f22-3a8464910947",
   "metadata": {},
   "outputs": [
    {
     "name": "stdout",
     "output_type": "stream",
     "text": [
      "[[43 46 51 24 44  4  4 46  6  5  5  1  5  0  9  5  3  5  6  7]\n",
      " [40 76 55 34 44  7  7 45  7 16  8  4  8  6  9  0  8  3  9  3]\n",
      " [41 56 74 27 51  3 11 53  6 16  3  4  7  3  9  2  9  8  6  5]\n",
      " [45 54 71 40 39  1  7 42 13 10  8  1 10  7  5  2  6 10 16  5]\n",
      " [46 48 64 26 53  4  9 52  7 15  7  5  4  6  4  4  8  8  8  7]\n",
      " [42 68 55 32 47 16  6 39 14 14  2  4 11  4  5  0  8  5 14  9]\n",
      " [40 55 59 19 46  5 31 48  4 15  2  2 10 11 11  1  4 10  9  8]\n",
      " [45 59 55 33 60  6  6 54 10 11 10  3  9  5  8  0  2  5  8  7]\n",
      " [47 49 82 25 46  4 10 44 15 26  8  1  9  5  8  2  3  6  4  4]\n",
      " [38 58 57 21 57  4 11 54  7 21  6  5  8 11  7  1  4 10  6 11]\n",
      " [36 57 70 25 45  5  9 38 14 23 29  3 11  2  8  1  5  9  3  6]\n",
      " [40 46 68 21 51  2  6 65 12 18  6 14  4  7  7  2 10  4  7  6]\n",
      " [45 67 76 22 54  8  6 38  7 10  7  0 13  5 13  1  5  3  8  5]\n",
      " [47 58 52 26 64  5  7 52 11 14 11  3 13  6  7  2  5  8  1  4]\n",
      " [40 53 56 26 58  4  8 47 10 20  4  5 11  7 16  0  5  1  8 15]\n",
      " [51 53 63 25 59  1  4 43  7 20  3  4 10  8 10 13  6  3  4 11]\n",
      " [36 47 69 28 51  3  3 42  5 13  6  5  8  9  9  2 13  6  5  4]\n",
      " [38 58 55 17 44  2  5 38  4 13  5  4  6 10  7  3  8 44  8  7]\n",
      " [38 54 46 18 39  0  7 28  9  8  5  0  4  3 11  2  6  9 18  5]\n",
      " [24 36 40 19 33  0  3 27 11  7  6  3  3  6 10  2  2  7  3  9]]\n"
     ]
    }
   ],
   "source": [
    "# first argument is true values, second argument is predicted values\n",
    "print (metrics.confusion_matrix(ytt, y_pred))"
   ]
  },
  {
   "cell_type": "markdown",
   "id": "24726174-eeb8-48fe-9a31-73455a63aaf8",
   "metadata": {},
   "source": [
    "### Sensitivity: When the actual value is positive, how often is the prediction correct?\n",
    "\n",
    "How \"sensitive\" is the classifier to detecting positive instances?\n",
    "Also known as \"True Positive Rate\" or \"Recall\""
   ]
  },
  {
   "cell_type": "code",
   "execution_count": 20,
   "id": "1ee77667-fa5d-4245-8f41-d74cd7a274e4",
   "metadata": {},
   "outputs": [
    {
     "name": "stdout",
     "output_type": "stream",
     "text": [
      "Sensitivity of KNN: 0.07939458311205523\n"
     ]
    }
   ],
   "source": [
    "print (\"Sensitivity of KNN:\",metrics.recall_score(ytt, y_pred, average='weighted'))"
   ]
  },
  {
   "cell_type": "markdown",
   "id": "a36a8467-182f-4256-95ea-4264fe29ab08",
   "metadata": {},
   "source": [
    "### Precision: When a positive value is predicted, how often is the prediction correct?\n",
    "\n",
    "How \"precise\" is the classifier when predicting positive instances?\n",
    "TP / (TP + FP)"
   ]
  },
  {
   "cell_type": "code",
   "execution_count": 21,
   "id": "abc7be1f-6114-4e94-824f-c12989bd3fcf",
   "metadata": {},
   "outputs": [
    {
     "name": "stdout",
     "output_type": "stream",
     "text": [
      "Precision of KNN: 0.12100733740836499\n"
     ]
    }
   ],
   "source": [
    "print (\"Precision of KNN:\", metrics.precision_score(ytt, y_pred, average='weighted'))"
   ]
  },
  {
   "cell_type": "markdown",
   "id": "08f15c35-c91a-49c5-818f-a6fdb179d431",
   "metadata": {},
   "source": [
    "### F-measure:\n",
    "\n",
    "2 P R / (P + R)"
   ]
  },
  {
   "cell_type": "code",
   "execution_count": 22,
   "id": "593b2e6f-7ca0-48f7-aa6c-bcf6cb57d297",
   "metadata": {},
   "outputs": [
    {
     "name": "stdout",
     "output_type": "stream",
     "text": [
      "F-measure of KNN: 0.07557918282968247\n"
     ]
    }
   ],
   "source": [
    "print (\"F-measure of KNN:\", metrics.f1_score(ytt, y_pred, average='weighted'))"
   ]
  },
  {
   "cell_type": "markdown",
   "id": "f7649fc1-e14c-4c76-b434-32b94b5f6259",
   "metadata": {},
   "source": [
    "### KNN Classification 2\n",
    "## Hyperparameters: n_neighbours=1, weights=distance"
   ]
  },
  {
   "cell_type": "code",
   "execution_count": 23,
   "id": "9d4d43c0-03b2-49f0-bb5d-145522666e56",
   "metadata": {},
   "outputs": [
    {
     "name": "stdout",
     "output_type": "stream",
     "text": [
      "Predicted Class Labels: [ 9  1  3 ...  1 19  3]\n",
      "Classification Accuracy: 0.1090015932023367\n",
      "Classification Error of KNN: 0.8909984067976633\n"
     ]
    }
   ],
   "source": [
    "# Instantiate the estimator\n",
    "clf_knn =  KNeighborsClassifier(n_neighbors=1, weights='distance')\n",
    "\n",
    "# Fit the model with data (aka \"model training\")\n",
    "clf_knn.fit(Xtr, ytr)\n",
    "\n",
    "# Predict the response for a new observation\n",
    "y_pred_knn = clf_knn.predict(Xtt)\n",
    "print( \"Predicted Class Labels:\",y_pred_knn)\n",
    "\n",
    "# calculate accuracy\n",
    "print (\"Classification Accuracy:\",metrics.accuracy_score(ytt, y_pred_knn))\n",
    "print (\"Classification Error of KNN:\", 1 - metrics.accuracy_score(ytt, y_pred_knn))"
   ]
  },
  {
   "cell_type": "markdown",
   "id": "23932ea6-aa06-4643-a5c2-14328780fc73",
   "metadata": {},
   "source": [
    "## Confusion matrix\n",
    "### Table that describes the performance of a classification model"
   ]
  },
  {
   "cell_type": "code",
   "execution_count": 24,
   "id": "0c504a79-eaa8-45b7-b452-c9d2350064a4",
   "metadata": {},
   "outputs": [
    {
     "name": "stdout",
     "output_type": "stream",
     "text": [
      "[[24 17 25 12 28 11 11 36 14 15 10 13 16  9 19  6 11 10 12 20]\n",
      " [16 40 20 23 23 15  9 46 15 26 15 10 17 17 20  9 20 21 11 16]\n",
      " [13 15 45 30 29 19  8 52  8 19  9  9 23 19 22 12 12 17  9 24]\n",
      " [13 21 32 59 28  8  4 41 21 21 13 10 19 19 20 14 10 11 14 14]\n",
      " [11 17 23 18 40 20 10 42 14 20 20 13 22 11 25 11 15 19  8 26]\n",
      " [10 22 16 23 33 33  6 54 15 27 12  8 15 12 27 12 15 15 13 27]\n",
      " [13 20 26 18 28 10 48 33 15 26 21  7 23 14 21  5 14 21  9 18]\n",
      " [18 10 26 17 39 29  7 53 14 24 10 15 20 13 27  5 12 18 19 20]\n",
      " [ 9 15 28 19 28 19 10 42 44 33 13  6 24 15 22  8  8 14 14 27]\n",
      " [13 19 22 18 32 22  4 45 15 41 13 13 23 16 22 12 12 23 14 18]\n",
      " [ 4 22 23 12 32 10  4 49 22 24 61 12 17 21 20  9 12 10 15 20]\n",
      " [10 18 30 16 27 18  6 41 14 37 20 34 21 16 18  8 15 15 10 22]\n",
      " [11 23 30 21 32 22  8 49 15 15 11  8 37 16 18  9  7 18 25 18]\n",
      " [11 13 21 23 33 21  8 51 18 21 22  9 17 30 27  9 14 15 16 17]\n",
      " [11 14 17 17 35 22  4 36  7 29 15 17 19 21 44 14 11 23 12 26]\n",
      " [21 20 27 18 32 21  7 31 14 19 14 13  6 21 22 41 16 18 19 18]\n",
      " [ 9 21 22 17 33 18  7 39 16 22 14 12 17 11 21 14 25 15 10 21]\n",
      " [ 8 16 21 18 36  9 10 32 14 17  6 12 15 17 13  9 13 68 17 25]\n",
      " [ 7 19 21 16 25 10  9 28 13 22 11 11 12  6 17  7 20 10 30 16]\n",
      " [ 9  8 17 11 15  9  3 24 11 13  7 10 11 13 24  8 12 13  9 24]]\n"
     ]
    }
   ],
   "source": [
    "# first argument is true values, second argument is predicted values\n",
    "print (metrics.confusion_matrix(ytt, y_pred_knn))"
   ]
  },
  {
   "cell_type": "markdown",
   "id": "eadf80c1-3571-4054-ae9f-4a9f164abdd6",
   "metadata": {},
   "source": [
    "### Sensitivity: When the actual value is positive, how often is the prediction correct?\n",
    "\n",
    "How \"sensitive\" is the classifier to detecting positive instances?\n",
    "Also known as \"True Positive Rate\" or \"Recall\""
   ]
  },
  {
   "cell_type": "code",
   "execution_count": 25,
   "id": "a39eac99-6b7d-4d91-8688-fff727d1bd72",
   "metadata": {},
   "outputs": [
    {
     "name": "stdout",
     "output_type": "stream",
     "text": [
      "Sensitivity of KNN: 0.1090015932023367\n"
     ]
    }
   ],
   "source": [
    "print (\"Sensitivity of KNN:\",metrics.recall_score(ytt, y_pred_knn, average='weighted'))"
   ]
  },
  {
   "cell_type": "markdown",
   "id": "b65bba7e-c97c-451a-b37e-3ef9b91b800f",
   "metadata": {},
   "source": [
    "### Precision: When a positive value is predicted, how often is the prediction correct?\n",
    "\n",
    "How \"precise\" is the classifier when predicting positive instances?\n",
    "TP / (TP + FP)"
   ]
  },
  {
   "cell_type": "code",
   "execution_count": 26,
   "id": "2ffc69e6-9e61-488d-afc2-aa31eb2cbc52",
   "metadata": {},
   "outputs": [
    {
     "name": "stdout",
     "output_type": "stream",
     "text": [
      "Precision of KNN: 0.12167713712643455\n"
     ]
    }
   ],
   "source": [
    "print (\"Precision of KNN:\", metrics.precision_score(ytt, y_pred_knn, average='weighted'))"
   ]
  },
  {
   "cell_type": "markdown",
   "id": "88fd8dc7-aaa1-4b16-b7f1-2c2aff3581c9",
   "metadata": {},
   "source": [
    "### F-measure:\n",
    "\n",
    "2 P R / (P + R)"
   ]
  },
  {
   "cell_type": "code",
   "execution_count": 27,
   "id": "65f60e5e-f6a3-402f-b06a-4ca68274e508",
   "metadata": {},
   "outputs": [
    {
     "name": "stdout",
     "output_type": "stream",
     "text": [
      "F-measure of KNN: 0.11149546811846324\n"
     ]
    }
   ],
   "source": [
    "print (\"F-measure of KNN:\", metrics.f1_score(ytt, y_pred_knn, average='weighted'))"
   ]
  },
  {
   "cell_type": "markdown",
   "id": "23536842-18ba-426a-93ca-47ea082038bf",
   "metadata": {},
   "source": [
    "### KNN Classification 2\n",
    "## Hyperparameters: n_neighbours=2, weights=distance"
   ]
  },
  {
   "cell_type": "code",
   "execution_count": 36,
   "id": "dd8a7b32-1833-44cb-9962-847a50c89de5",
   "metadata": {},
   "outputs": [
    {
     "name": "stdout",
     "output_type": "stream",
     "text": [
      "Predicted Class Labels: [1 1 3 ... 1 7 3]\n",
      "Classification Accuracy: 0.11364843335103558\n",
      "Classification Error of KNN: 0.8863515666489644\n"
     ]
    }
   ],
   "source": [
    "# Instantiate the estimator\n",
    "clf_knn =  KNeighborsClassifier(n_neighbors=2, weights='distance')\n",
    "\n",
    "# Fit the model with data (aka \"model training\")\n",
    "clf_knn.fit(Xtr, ytr)\n",
    "\n",
    "# Predict the response for a new observation\n",
    "y_pred_knn = clf_knn.predict(Xtt)\n",
    "print( \"Predicted Class Labels:\",y_pred_knn)\n",
    "\n",
    "# calculate accuracy\n",
    "print (\"Classification Accuracy:\",metrics.accuracy_score(ytt, y_pred_knn))\n",
    "print (\"Classification Error of KNN:\", 1 - metrics.accuracy_score(ytt, y_pred_knn))"
   ]
  },
  {
   "cell_type": "markdown",
   "id": "d5d30974-ac5e-47e0-856f-f506831cba5f",
   "metadata": {},
   "source": [
    "## Confusion matrix\n",
    "### Table that describes the performance of a classification model"
   ]
  },
  {
   "cell_type": "code",
   "execution_count": 29,
   "id": "5a20b3d0-7a10-415a-aa96-8cc65d759c8e",
   "metadata": {},
   "outputs": [
    {
     "name": "stdout",
     "output_type": "stream",
     "text": [
      "[[35 27 49 15 37 13 10 57 12 12 10  7  7  8 10  5  2  0  2  1]\n",
      " [24 63 37 32 37 15 12 56 25 26 13  7 12 10  4  0  7  5  4  0]\n",
      " [26 33 63 40 41 19 19 49 22 22  9  4 12 10 11  2  3  3  2  4]\n",
      " [29 45 50 63 38  9  7 41 14 26 11  6 12 13 12  7  1  3  3  2]\n",
      " [23 33 47 26 58 22 14 44 22 20 16  9 11  7 10  5 10  7  0  1]\n",
      " [22 37 35 36 45 31 14 53 26 24 13 12  9  5 15  3  9  2  2  2]\n",
      " [31 35 47 20 43 13 42 55 11 21 12  7 14  6  9  5  7  7  2  3]\n",
      " [29 29 41 32 50 32  9 56 17 28 14 10 12  9 10  5  6  3  3  1]\n",
      " [25 32 53 32 34 22 11 49 35 31 10  7 22 10  9  2  4  5  1  4]\n",
      " [29 42 32 30 46 23  8 57 15 41 14 11 12 11 10  1  6  5  2  2]\n",
      " [16 37 50 21 47 13  9 49 22 32 44 13 13 13 10  2  1  5  1  1]\n",
      " [24 27 51 25 45 22 14 51 22 25 21 25 15 11  5  3  4  3  1  2]\n",
      " [26 39 52 33 53 26 11 51 16 17  9 10 22  9  8  3  2  1  4  1]\n",
      " [27 33 44 28 41 24 16 48 23 29 25  5 19 13  8  3  4  5  1  0]\n",
      " [27 31 37 37 44 27  6 45 12 25 12 14 18 14 27  6  1  6  3  2]\n",
      " [39 41 46 31 46 18 13 41 10 23 18  9 13 13 12 13  4  6  1  1]\n",
      " [23 34 44 28 41 17 13 45 18 24 13  7 11  8 10  6 15  4  3  0]\n",
      " [19 29 41 23 55 10 11 42 16 26 10  9  8  8 11  4 10 43  0  1]\n",
      " [28 41 32 21 31 10  8 39 15 16  5  8 11  6  7  5  7  2 16  2]\n",
      " [14 22 33 17 30 10  4 30 13 10  7 10  6 15 12  7  2  6  0  3]]\n"
     ]
    }
   ],
   "source": [
    "# first argument is true values, second argument is predicted values\n",
    "print (metrics.confusion_matrix(ytt, y_pred_knn))"
   ]
  },
  {
   "cell_type": "markdown",
   "id": "5c79fa2a-75ba-4173-b839-382f79352660",
   "metadata": {},
   "source": [
    "### Sensitivity: When the actual value is positive, how often is the prediction correct?\n",
    "\n",
    "How \"sensitive\" is the classifier to detecting positive instances?\n",
    "Also known as \"True Positive Rate\" or \"Recall\""
   ]
  },
  {
   "cell_type": "code",
   "execution_count": 30,
   "id": "fbdf966d-e317-423a-9215-875fcc109bad",
   "metadata": {},
   "outputs": [
    {
     "name": "stdout",
     "output_type": "stream",
     "text": [
      "Sensitivity of KNN: 0.09399893786510886\n"
     ]
    }
   ],
   "source": [
    "print (\"Sensitivity of KNN:\",metrics.recall_score(ytt, y_pred_knn, average='weighted'))"
   ]
  },
  {
   "cell_type": "markdown",
   "id": "a539a9d8-b789-48c1-9658-f35f3b7907ab",
   "metadata": {},
   "source": [
    "### Precision: When a positive value is predicted, how often is the prediction correct?\n",
    "\n",
    "How \"precise\" is the classifier when predicting positive instances?\n",
    "TP / (TP + FP)"
   ]
  },
  {
   "cell_type": "code",
   "execution_count": 31,
   "id": "ea0b1526-30dc-4fdd-b249-d392b6c53669",
   "metadata": {},
   "outputs": [
    {
     "name": "stdout",
     "output_type": "stream",
     "text": [
      "Precision of KNN: 0.12395712469852152\n"
     ]
    }
   ],
   "source": [
    "print (\"Precision of KNN:\", metrics.precision_score(ytt, y_pred_knn, average='weighted'))"
   ]
  },
  {
   "cell_type": "markdown",
   "id": "bc2f65d6-ad61-4eda-a548-723c1a7f707a",
   "metadata": {},
   "source": [
    "### F-measure:\n",
    "\n",
    "2 P R / (P + R)"
   ]
  },
  {
   "cell_type": "code",
   "execution_count": 33,
   "id": "a2af55cf-5673-4eb4-a677-88c65139d86e",
   "metadata": {},
   "outputs": [
    {
     "name": "stdout",
     "output_type": "stream",
     "text": [
      "F-measure of KNN: 0.09189560967526793\n"
     ]
    }
   ],
   "source": [
    "print (\"F-measure of KNN:\", metrics.f1_score(ytt, y_pred_knn, average='weighted'))"
   ]
  },
  {
   "cell_type": "markdown",
   "id": "6445aedd-d4f4-4295-b1b3-2160c155ec5c",
   "metadata": {},
   "source": [
    "### Conclusion"
   ]
  },
  {
   "cell_type": "markdown",
   "id": "816ed6a5-e1a7-4413-8a92-85be921ecc22",
   "metadata": {},
   "source": [
    "### comparison between hyperparameters\n",
    " 0.       n_neighbour   weights              accuracy                        error\n",
    " 1.        5             default            0.07939458311205523           0.9206054168879447       \n",
    " 2.        1             distance           0.1090015932023367            0.8909984067976633\n",
    " 3.        2             distance           0.11364843335103558           0.8863515666489644"
   ]
  },
  {
   "cell_type": "code",
   "execution_count": null,
   "id": "7c5edee0-27e8-4f2f-9c8c-1916c67b7547",
   "metadata": {},
   "outputs": [],
   "source": []
  }
 ],
 "metadata": {
  "kernelspec": {
   "display_name": "Python 3 (ipykernel)",
   "language": "python",
   "name": "python3"
  },
  "language_info": {
   "codemirror_mode": {
    "name": "ipython",
    "version": 3
   },
   "file_extension": ".py",
   "mimetype": "text/x-python",
   "name": "python",
   "nbconvert_exporter": "python",
   "pygments_lexer": "ipython3",
   "version": "3.9.19"
  }
 },
 "nbformat": 4,
 "nbformat_minor": 5
}
